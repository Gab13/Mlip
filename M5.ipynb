{
 "cells": [
  {
   "cell_type": "code",
   "execution_count": 1,
   "metadata": {},
   "outputs": [],
   "source": [
    "import numpy as np\n",
    "import pandas as pd\n",
    "import matplotlib.pyplot as plt\n",
    "\n",
    "from sklearn.gaussian_process import GaussianProcessRegressor\n",
    "import sklearn.gaussian_process.kernels as K\n",
    "from sklearn import preprocessing\n",
    "\n",
    "import warnings\n",
    "warnings.filterwarnings(\"ignore\")"
   ]
  },
  {
   "cell_type": "markdown",
   "metadata": {},
   "source": [
    "# Sell prices.csv\n",
    "\n",
    "The sell_prices.csv file contains the weekly (averaged) prices for each of the 3049 products in the dataset.\n",
    "Note that the amount of weeks for each product is not the same, as some products might have not been available at the start date, or became unavailable later on(?).\n",
    "\n",
    "Not yet combined with the training data\n",
    "\n"
   ]
  },
  {
   "cell_type": "code",
   "execution_count": 2,
   "metadata": {},
   "outputs": [
    {
     "name": "stdout",
     "output_type": "stream",
     "text": [
      "(6841121, 4)\n"
     ]
    },
    {
     "data": {
      "text/html": [
       "<div>\n",
       "<style scoped>\n",
       "    .dataframe tbody tr th:only-of-type {\n",
       "        vertical-align: middle;\n",
       "    }\n",
       "\n",
       "    .dataframe tbody tr th {\n",
       "        vertical-align: top;\n",
       "    }\n",
       "\n",
       "    .dataframe thead th {\n",
       "        text-align: right;\n",
       "    }\n",
       "</style>\n",
       "<table border=\"1\" class=\"dataframe\">\n",
       "  <thead>\n",
       "    <tr style=\"text-align: right;\">\n",
       "      <th></th>\n",
       "      <th>store_id</th>\n",
       "      <th>item_id</th>\n",
       "      <th>wm_yr_wk</th>\n",
       "      <th>sell_price</th>\n",
       "    </tr>\n",
       "  </thead>\n",
       "  <tbody>\n",
       "    <tr>\n",
       "      <th>0</th>\n",
       "      <td>CA_1</td>\n",
       "      <td>HOBBIES_1_001</td>\n",
       "      <td>11325</td>\n",
       "      <td>9.58</td>\n",
       "    </tr>\n",
       "    <tr>\n",
       "      <th>1</th>\n",
       "      <td>CA_1</td>\n",
       "      <td>HOBBIES_1_001</td>\n",
       "      <td>11326</td>\n",
       "      <td>9.58</td>\n",
       "    </tr>\n",
       "    <tr>\n",
       "      <th>2</th>\n",
       "      <td>CA_1</td>\n",
       "      <td>HOBBIES_1_001</td>\n",
       "      <td>11327</td>\n",
       "      <td>8.26</td>\n",
       "    </tr>\n",
       "    <tr>\n",
       "      <th>3</th>\n",
       "      <td>CA_1</td>\n",
       "      <td>HOBBIES_1_001</td>\n",
       "      <td>11328</td>\n",
       "      <td>8.26</td>\n",
       "    </tr>\n",
       "    <tr>\n",
       "      <th>4</th>\n",
       "      <td>CA_1</td>\n",
       "      <td>HOBBIES_1_001</td>\n",
       "      <td>11329</td>\n",
       "      <td>8.26</td>\n",
       "    </tr>\n",
       "  </tbody>\n",
       "</table>\n",
       "</div>"
      ],
      "text/plain": [
       "  store_id        item_id  wm_yr_wk  sell_price\n",
       "0     CA_1  HOBBIES_1_001     11325        9.58\n",
       "1     CA_1  HOBBIES_1_001     11326        9.58\n",
       "2     CA_1  HOBBIES_1_001     11327        8.26\n",
       "3     CA_1  HOBBIES_1_001     11328        8.26\n",
       "4     CA_1  HOBBIES_1_001     11329        8.26"
      ]
     },
     "execution_count": 2,
     "metadata": {},
     "output_type": "execute_result"
    }
   ],
   "source": [
    "PRICE_DTYPES = {\"store_id\": \"category\", \n",
    "                \"item_id\": \"category\", \n",
    "                \"wm_yr_wk\": \"int16\", \n",
    "                \"sell_price\":\"float32\" }\n",
    "\n",
    "prices = pd.read_csv(\"m5-forecasting-accuracy/sell_prices.csv\", dtype = PRICE_DTYPES)\n",
    "\n",
    "print(prices.shape)\n",
    "prices.head(5)"
   ]
  },
  {
   "cell_type": "markdown",
   "metadata": {},
   "source": [
    "# Calendar.csv\n",
    "\n",
    "Have not combined calendar.csv yet with the training set"
   ]
  },
  {
   "cell_type": "code",
   "execution_count": 3,
   "metadata": {},
   "outputs": [
    {
     "name": "stdout",
     "output_type": "stream",
     "text": [
      "1913\n"
     ]
    }
   ],
   "source": [
    "CAL_DTYPES={\"weekday\": \"category\", \n",
    "            'wm_yr_wk': 'int16', \n",
    "            \"wday\": \"int16\",\n",
    "            \"month\": \"int16\", \n",
    "            \"year\": \"int16\", \n",
    "            \"event_name_1\": \"category\", \n",
    "            \"event_name_2\": \"category\", \n",
    "            \"event_type_1\": \"category\", \n",
    "            \"event_type_2\": \"category\", \n",
    "            \"snap_CA\": \"float32\", \n",
    "            'snap_TX': 'float32', \n",
    "            'snap_WI': 'float32'}\n",
    "\n",
    "calendar = pd.read_csv(\"m5-forecasting-accuracy/calendar.csv\", dtype = CAL_DTYPES)\n",
    "\n",
    "calendar[\"date\"] = pd.to_datetime(calendar[\"date\"]) # this changes the format of the 'date' column to handier one\n",
    "\n",
    "for col, col_dtype in CAL_DTYPES.items():\n",
    "        if col_dtype == \"category\":\n",
    "            calendar[col] = calendar[col].cat.codes.astype(\"int16\") # changes category to int16! so now Boolean\n",
    "            calendar[col] -= calendar[col].min() # this changes the -1 values in the event_name and _type columns to 0\n",
    "\n",
    "#print(calendar.shape)\n",
    "#calendar.head(5)\n",
    "\n",
    "slice = calendar.loc[:, 'event_name_1':'event_type_2'][:1913]\n",
    "\n",
    "events = slice.values.tolist()\n",
    "snap_CA = [ [x] for x in calendar.loc[:, 'snap_CA'][:1913].tolist()]\n",
    "snap_TX = [ [x] for x in calendar.loc[:, 'snap_TX'][:1913].tolist()]\n",
    "snap_WI = [ [x] for x in calendar.loc[:, 'snap_WI'][:1913].tolist()]\n",
    "\n",
    "print(len(events))"
   ]
  },
  {
   "cell_type": "markdown",
   "metadata": {},
   "source": [
    "# Sales_train_validation.csv\n",
    "\n",
    "Next up: the training set\n",
    "\n",
    "6 columns with information about the 30490 products, then 1913 columns denoting the number of sales on each of the 1913 days.\n",
    "For a total of 1919 columns."
   ]
  },
  {
   "cell_type": "code",
   "execution_count": 4,
   "metadata": {},
   "outputs": [],
   "source": [
    "FIRST_DAY = 350\n",
    "is_train = True"
   ]
  },
  {
   "cell_type": "code",
   "execution_count": 5,
   "metadata": {},
   "outputs": [
    {
     "name": "stdout",
     "output_type": "stream",
     "text": [
      "30490\n"
     ]
    }
   ],
   "source": [
    "tr_last = 1913 # ???\n",
    "max_lags = 57 # ???\n",
    "start_day = max(1 if is_train  else tr_last-max_lags, FIRST_DAY)\n",
    "numcols = [f\"d_{day}\" for day in range(start_day,tr_last+1)]\n",
    "\n",
    "dtype = {numcol:\"float32\" for numcol in numcols} \n",
    "\n",
    "train = pd.read_csv(\"m5-forecasting-accuracy/sales_train_validation.csv\", dtype = dtype)\n",
    "print(len(train))\n",
    "\n",
    "#print(train.head(5))"
   ]
  },
  {
   "cell_type": "markdown",
   "metadata": {},
   "source": [
    "# Gaussian process"
   ]
  },
  {
   "cell_type": "code",
   "execution_count": 6,
   "metadata": {},
   "outputs": [],
   "source": [
    "def GaussianProcess(product_sales, events, store_id, n, h=28):\n",
    "    model_start = len(product_sales) - (n + h)\n",
    "    model_end = len(product_sales) - h\n",
    "    \n",
    "    past_events = events[model_start:model_end]\n",
    "    past_and_future_events = events[model_start:model_end+28]\n",
    "    \n",
    "    X = [[x] for x in range(model_start, model_end)]\n",
    "    X = [x1 + events1 for x1, events1 in zip(X, past_events)]\n",
    "    \n",
    "    if store_id in ['CA_1', 'CA_2', 'CA_3', 'CA_4']:\n",
    "        X = [x + snaps for x, snaps in zip(X, snap_CA[model_start:model_end])]\n",
    "    elif store_id in ['TX_1', 'TX_2', 'TX_3']:\n",
    "        X = [x + snaps for x, snaps in zip(X, snap_TX[model_start:model_end])]\n",
    "    elif store_id in ['WI_1', 'WI_2', 'WI_3']:\n",
    "        X = [x + snaps for x, snaps in zip(X, snap_WI[model_start:model_end])]\n",
    "\n",
    "    # observations\n",
    "    Y = product_sales[model_start:model_end]\n",
    "\n",
    "    # https://scikit-learn.org/stable/auto_examples/gaussian_process/plot_gpr_noisy_targets.html#sphx-glr-auto-examples-gaussian-process-plot-gpr-noisy-targets-py\n",
    "\n",
    "    # the range we wish to predict for (includes existing points)\n",
    "    x = [[x] for x in range(model_start, len(product_sales))]\n",
    "    x = [x2 + events2 for x2, events2 in zip(x, past_and_future_events)]\n",
    "    \n",
    "    if store_id in ['CA_1', 'CA_2', 'CA_3', 'CA_4']:\n",
    "        x = [x + snaps for x, snaps in zip(x, snap_CA[model_start:model_end+28])]\n",
    "    elif store_id in ['TX_1', 'TX_2', 'TX_3']:\n",
    "        x = [x + snaps for x, snaps in zip(x, snap_TX[model_start:model_end+28])]\n",
    "    elif store_id in ['WI_1', 'WI_2', 'WI_3']:\n",
    "        x = [x + snaps for x, snaps in zip(x, snap_WI[model_start:model_end+28])]\n",
    "\n",
    "    #kernel = K.RBF()\n",
    "    #kernel = K.RBF() + K.ExpSineSquared()\n",
    "    #kernel = K.RBF() + K.ExpSineSquared() * K.RationalQuadratic() \n",
    "    #kernel = K.RationalQuadratic()\n",
    "    #kernel = K.ExpSineSquared() * K.RationalQuadratic() \n",
    "    kernel = K.Matern()\n",
    "\n",
    "    gp = GaussianProcessRegressor(kernel=kernel, n_restarts_optimizer=9)\n",
    "\n",
    "    # Fit to data using Maximum Likelihood Estimation of the parameters\n",
    "    gp.fit(X, Y)\n",
    "\n",
    "    Y_pred = gp.predict(x, return_std=False)\n",
    "    \n",
    "    return x, Y_pred, model_start"
   ]
  },
  {
   "cell_type": "markdown",
   "metadata": {},
   "source": [
    "# RMSSE"
   ]
  },
  {
   "cell_type": "code",
   "execution_count": 7,
   "metadata": {},
   "outputs": [],
   "source": [
    "import math\n",
    "\n",
    "def RMSSE(n, Y, Y_pred, h = 28):\n",
    "    \"\"\"\n",
    "    h: forecasting horizon (28)\n",
    "    n: number of datapoints the model was trained on (280)\n",
    "    Y: ground truth values (length 280 + 28)\n",
    "    Y_pred: predicted values (length 280 + 28)\"\"\"\n",
    "    \n",
    "    numerator = 0\n",
    "    denominator = 0\n",
    "    \n",
    "    for t in range ((n), (n+h)):              # (the 'future' timepoints)\n",
    "        numerator += (Y[t] - Y_pred[t])**2\n",
    "    for t in range(1, (n)):                   # (the existing timepoints)\n",
    "        denominator += (Y[t] - Y[t-1])**2\n",
    "        \n",
    "    denominator = (1/(n-1)) * denominator\n",
    "    \n",
    "    return math.sqrt((1/h)*(numerator/denominator))"
   ]
  },
  {
   "cell_type": "markdown",
   "metadata": {},
   "source": [
    "# Computing weight of a series"
   ]
  },
  {
   "cell_type": "code",
   "execution_count": 8,
   "metadata": {},
   "outputs": [],
   "source": [
    "def compute_weight(item_id, store_id, sales):\n",
    "    p = prices.loc[(prices['item_id'] == item_id) & (prices['store_id'] == store_id)]\n",
    "    last_4_weeks_prices = p.tail(4)['sell_price'].tolist()\n",
    "    \n",
    "    sales_week1 = sum(sales[1885:1892])\n",
    "    sales_week2 = sum(sales[1892:1899])\n",
    "    sales_week3 = sum(sales[1899:1906])\n",
    "    sales_week4 = sum(sales[1906:1913])\n",
    "\n",
    "    weight = sales_week1 * last_4_weeks_prices[0] + sales_week2 * last_4_weeks_prices[1] + \\\n",
    "        sales_week3 * last_4_weeks_prices[2] + sales_week4 * last_4_weeks_prices[3]\n",
    "    return weight"
   ]
  },
  {
   "cell_type": "code",
   "execution_count": 9,
   "metadata": {},
   "outputs": [],
   "source": [
    "def plot(x, sales, model_start, Y_pred):\n",
    "    plt.figure()\n",
    "\n",
    "    plt.scatter(x, sales[model_start:], label='Data')\n",
    "    plt.plot(x, Y_pred, label='Prediction', color='orange')\n",
    "\n",
    "    plt.xlabel('$day$')\n",
    "    plt.ylabel('$sales$')\n",
    "\n",
    "    plt.xlim(1611, 1913)\n",
    "    plt.ylim(0, 6)\n",
    "\n",
    "    plt.legend(loc='upper left')\n",
    "\n",
    "    plt.show()"
   ]
  },
  {
   "cell_type": "markdown",
   "metadata": {},
   "source": [
    "# Weighted RMSSE (WRMSSE)"
   ]
  },
  {
   "cell_type": "code",
   "execution_count": 10,
   "metadata": {},
   "outputs": [
    {
     "data": {
      "text/plain": [
       "1.131510376674887"
      ]
     },
     "execution_count": 10,
     "metadata": {},
     "output_type": "execute_result"
    }
   ],
   "source": [
    "number_of_products = 50\n",
    "n = 140\n",
    "\n",
    "products = []\n",
    "\n",
    "import random\n",
    "\n",
    "# randomly select 15 products for testing\n",
    "for _ in range (number_of_products):\n",
    "    products.append(train.iloc[random.randint(0, 30491)])\n",
    "\n",
    "    \n",
    "def WRMSSE(series):    \n",
    "    errors = []\n",
    "    weights = []\n",
    "    \n",
    "    for prod in series:     \n",
    "        id = prod[1]\n",
    "        store_id = prod[4]\n",
    "        #print(store_id)\n",
    "        sales = prod[6:].tolist()\n",
    "\n",
    "        x, Y_pred, model_start = GaussianProcess(sales, events, store_id, n)\n",
    "        \n",
    "        Y = sales[model_start:]\n",
    "        error = RMSSE(n, Y, Y_pred)\n",
    "        errors.append(error)\n",
    "        \n",
    "        weight = compute_weight(id, store_id, sales)\n",
    "        weights.append(weight)\n",
    "        \n",
    "        #plot(x, sales, model_start, Y_pred)\n",
    "        \n",
    "    total_weight = sum(weights)\n",
    "    normalized_weights = [x / total_weight for x in weights]\n",
    "    \n",
    "    weighted_errors_normalized = [weight * error for weight,error in zip(normalized_weights, errors)]\n",
    "    \n",
    "    normalized_WRMSSE = sum(weighted_errors_normalized)\n",
    "\n",
    "    return normalized_WRMSSE\n",
    "\n",
    "WRMSSE(products)"
   ]
  },
  {
   "cell_type": "code",
   "execution_count": null,
   "metadata": {},
   "outputs": [],
   "source": []
  }
 ],
 "metadata": {
  "kernelspec": {
   "display_name": "Python 3",
   "language": "python",
   "name": "python3"
  },
  "language_info": {
   "codemirror_mode": {
    "name": "ipython",
    "version": 3
   },
   "file_extension": ".py",
   "mimetype": "text/x-python",
   "name": "python",
   "nbconvert_exporter": "python",
   "pygments_lexer": "ipython3",
   "version": "3.7.6"
  }
 },
 "nbformat": 4,
 "nbformat_minor": 4
}
